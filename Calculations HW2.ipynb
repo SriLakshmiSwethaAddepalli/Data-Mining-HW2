{
  "cells": [
    {
      "cell_type": "markdown",
      "id": "753436e3",
      "metadata": {
        "id": "753436e3"
      },
      "source": [
        "## Question 1"
      ]
    },
    {
      "cell_type": "markdown",
      "id": "5fbf7a09",
      "metadata": {},
      "source": [
        "#### Sri Lakshmi Swetha Addepalli \n",
        "#### FSUID: sa23m \n",
        "#### Data Mining \n",
        "#### HomWork - 2 Calculations"
      ]
    },
    {
      "cell_type": "code",
      "execution_count": 1,
      "id": "58d909e3",
      "metadata": {
        "colab": {
          "base_uri": "https://localhost:8080/"
        },
        "id": "58d909e3",
        "outputId": "8fc505ff-30ef-430f-8a94-5215420fbad9"
      },
      "outputs": [
        {
          "name": "stdout",
          "output_type": "stream",
          "text": [
            "Information gain for Tobacco: 0.2780719051126377\n",
            "Information gain for Radon: 0.2364527976600279\n",
            "Information gain for Chronic Cough: 0.034851554559677034\n",
            "Information gain for Weight Loss: 0.02904940554533142\n"
          ]
        }
      ],
      "source": [
        "import numpy as np\n",
        "\n",
        "def entropy(labels):\n",
        "    \"\"\"Computes entropy of a list of binary labels (0 and 1).\"\"\"\n",
        "    n_labels = len(labels)\n",
        "    if n_labels <= 1:\n",
        "        return 0\n",
        "    counts = np.bincount(labels)\n",
        "    probs = counts / n_labels\n",
        "    n_classes = np.count_nonzero(probs)\n",
        "    if n_classes <= 1:\n",
        "        return 0\n",
        "    return -np.sum(probs * np.log2(probs))\n",
        "\n",
        "def information_gain(data, split_attribute_name, target_name):\n",
        "    \"\"\"Calculates the information gain of a dataset. This function takes three parameters:\n",
        "    1. data = The dataset for whose feature the IG should be calculated\n",
        "    2. split_attribute_name = the name of the feature for which the information gain should be calculated\n",
        "    3. target_name = the name of the target feature. The entropy of the whole dataset will be calculated against this target feature.\"\"\"\n",
        "    # Calculate the entropy of the total dataset\n",
        "    total_entropy = entropy(data[target_name])\n",
        "\n",
        "    # Calculate the values and the corresponding counts for the split attribute\n",
        "    vals, counts= np.unique(data[split_attribute_name], return_counts=True)\n",
        "\n",
        "    # Calculate the weighted entropy\n",
        "    Weighted_Entropy = np.sum([(counts[i]/np.sum(counts))*entropy(data.where(data[split_attribute_name]==vals[i]).dropna()[target_name]) for i in range(len(vals))])\n",
        "\n",
        "    # Calculate the information gain\n",
        "    Information_Gain = total_entropy - Weighted_Entropy\n",
        "    return Information_Gain\n",
        "\n",
        "# Convert your dataset into a pandas DataFrame\n",
        "import pandas as pd\n",
        "\n",
        "data = pd.DataFrame({\n",
        "    'Tobacco': ['Yes', 'Yes', 'Yes', 'Yes', 'No', 'Yes', 'No', 'No', 'No', 'No'],\n",
        "    'Radon': ['Yes', 'No', 'No', 'No', 'Yes', 'No', 'No', 'No', 'No', 'No'],\n",
        "    'Chronic Cough': ['Yes', 'Yes', 'Yes', 'Yes', 'No', 'No', 'Yes', 'Yes', 'Yes', 'No'],\n",
        "    'Weight Loss': ['No', 'No', 'Yes', 'Yes', 'Yes', 'No', 'No', 'Yes', 'No', 'Yes'],\n",
        "    'Lung Cancer': ['Yes', 'Yes', 'Yes', 'Yes', 'Yes', 'No', 'No', 'No', 'No', 'No']\n",
        "})\n",
        "\n",
        "# Convert 'Yes'/'No' labels to 1/0\n",
        "data['Lung Cancer'] = data['Lung Cancer'].map({'Yes': 1, 'No': 0})\n",
        "\n",
        "# Calculate information gain for each attribute\n",
        "for attribute in ['Tobacco', 'Radon', 'Chronic Cough', 'Weight Loss']:\n",
        "    print(f\"Information gain for {attribute}: {information_gain(data, attribute, 'Lung Cancer')}\")"
      ]
    },
    {
      "cell_type": "code",
      "execution_count": 2,
      "id": "6329363c",
      "metadata": {
        "colab": {
          "base_uri": "https://localhost:8080/"
        },
        "id": "6329363c",
        "outputId": "d1f25dd2-6802-4362-e477-b8f14407ba1e"
      },
      "outputs": [
        {
          "name": "stdout",
          "output_type": "stream",
          "text": [
            "Information gain for 'Tobacco' = 'Yes' subset:\n",
            "Information gain for Radon: 0.07290559532005603\n",
            "Information gain for Chronic Cough: 0.7219280948873623\n",
            "Information gain for Weight Loss: 0.17095059445466865\n",
            "\n",
            "Information gain for 'Tobacco' = 'No' subset:\n",
            "Information gain for Radon: 0.7219280948873623\n",
            "Information gain for Chronic Cough: 0.3219280948873623\n",
            "Information gain for Weight Loss: 0.17095059445466865\n",
            "\n",
            "Information gain for 'Tobacco' = 'Yes' and 'Chronic Cough' = 'Yes' subset:\n",
            "Information gain for Radon: 0.0\n",
            "Information gain for Weight Loss: 0.0\n",
            "\n",
            "Information gain for 'Tobacco' = 'Yes' and 'Chronic Cough' = 'No' subset:\n",
            "Information gain for Radon: 0.0\n",
            "Information gain for Weight Loss: 0.0\n",
            "\n",
            "Information gain for 'Tobacco' = 'No' and 'Radon' = 'Yes' subset:\n",
            "Information gain for Chronic Cough: 0.0\n",
            "Information gain for Weight Loss: 0.0\n",
            "\n",
            "Information gain for 'Tobacco' = 'No' and 'Radon' = 'No' subset:\n",
            "Information gain for Chronic Cough: 0.0\n",
            "Information gain for Weight Loss: 0.0\n"
          ]
        }
      ],
      "source": [
        "# Subset for 'Tobacco' = 'Yes'\n",
        "data_tobacco_yes = data[data['Tobacco'] == 'Yes']\n",
        "\n",
        "# Subset for 'Tobacco' = 'No'\n",
        "data_tobacco_no = data[data['Tobacco'] == 'No']\n",
        "\n",
        "# Calculate information gain for each attribute in the 'Tobacco' = 'Yes' subset\n",
        "print(\"Information gain for 'Tobacco' = 'Yes' subset:\")\n",
        "for attribute in ['Radon', 'Chronic Cough', 'Weight Loss']:\n",
        "    print(f\"Information gain for {attribute}: {information_gain(data_tobacco_yes, attribute, 'Lung Cancer')}\")\n",
        "\n",
        "# Calculate information gain for each attribute in the 'Tobacco' = 'No' subset\n",
        "print(\"\\nInformation gain for 'Tobacco' = 'No' subset:\")\n",
        "for attribute in ['Radon', 'Chronic Cough', 'Weight Loss']:\n",
        "    print(f\"Information gain for {attribute}: {information_gain(data_tobacco_no, attribute, 'Lung Cancer')}\")\n",
        "\n",
        "# Third level for 'Tobacco' = 'Yes' subset\n",
        "# Since 'Chronic Cough' has the highest information gain for 'Tobacco' = 'Yes' subset,\n",
        "# we further split based on 'Chronic Cough'\n",
        "data_tobacco_yes_cough_yes = data_tobacco_yes[data_tobacco_yes['Chronic Cough'] == 'Yes']\n",
        "data_tobacco_yes_cough_no = data_tobacco_yes[data_tobacco_yes['Chronic Cough'] == 'No']\n",
        "\n",
        "# Calculate information gain for each attribute in the 'Tobacco' = 'Yes' and 'Chronic Cough' = 'Yes' subset\n",
        "print(\"\\nInformation gain for 'Tobacco' = 'Yes' and 'Chronic Cough' = 'Yes' subset:\")\n",
        "for attribute in ['Radon', 'Weight Loss']:\n",
        "    print(f\"Information gain for {attribute}: {information_gain(data_tobacco_yes_cough_yes, attribute, 'Lung Cancer')}\")\n",
        "\n",
        "# Calculate information gain for each attribute in the 'Tobacco' = 'Yes' and 'Chronic Cough' = 'No' subset\n",
        "print(\"\\nInformation gain for 'Tobacco' = 'Yes' and 'Chronic Cough' = 'No' subset:\")\n",
        "for attribute in ['Radon', 'Weight Loss']:\n",
        "    print(f\"Information gain for {attribute}: {information_gain(data_tobacco_yes_cough_no, attribute, 'Lung Cancer')}\")\n",
        "\n",
        "# Third level for 'Tobacco' = 'No' subset\n",
        "# Since 'Radon' has the highest information gain for 'Tobacco' = 'No' subset,\n",
        "# we further split based on 'Radon'\n",
        "data_tobacco_no_radon_yes = data_tobacco_no[data_tobacco_no['Radon'] == 'Yes']\n",
        "data_tobacco_no_radon_no = data_tobacco_no[data_tobacco_no['Radon'] == 'No']\n",
        "\n",
        "# Calculate information gain for each attribute in the 'Tobacco' = 'No' and 'Radon' = 'Yes' subset\n",
        "print(\"\\nInformation gain for 'Tobacco' = 'No' and 'Radon' = 'Yes' subset:\")\n",
        "for attribute in ['Chronic Cough', 'Weight Loss']:\n",
        "    print(f\"Information gain for {attribute}: {information_gain(data_tobacco_no_radon_yes, attribute, 'Lung Cancer')}\")\n",
        "\n",
        "# Calculate information gain for each attribute in the 'Tobacco' = 'No' and 'Radon' = 'No' subset\n",
        "print(\"\\nInformation gain for 'Tobacco' = 'No' and 'Radon' = 'No' subset:\")\n",
        "for attribute in ['Chronic Cough', 'Weight Loss']:\n",
        "    print(f\"Information gain for {attribute}: {information_gain(data_tobacco_no_radon_no, attribute, 'Lung Cancer')}\")\n"
      ]
    },
    {
      "cell_type": "markdown",
      "id": "fe123d1e",
      "metadata": {
        "id": "fe123d1e"
      },
      "source": [
        "## Question 2"
      ]
    },
    {
      "cell_type": "markdown",
      "id": "b9c0d035",
      "metadata": {
        "id": "b9c0d035"
      },
      "source": [
        "### 2 A"
      ]
    },
    {
      "cell_type": "code",
      "execution_count": 19,
      "id": "gQNVqtKQlAC5",
      "metadata": {
        "id": "gQNVqtKQlAC5"
      },
      "outputs": [],
      "source": [
        "import math as m\n",
        "def log(x):\n",
        "    try:\n",
        "        return m.log(x,2)\n",
        "    except:\n",
        "        return 0"
      ]
    },
    {
      "cell_type": "code",
      "execution_count": 20,
      "id": "65S-c0dDlAGO",
      "metadata": {
        "id": "65S-c0dDlAGO"
      },
      "outputs": [],
      "source": [
        "def entropy(l):\n",
        "    entr=0\n",
        "    for i in l:\n",
        "        entr+=i*log(i)\n",
        "    return -entr"
      ]
    },
    {
      "cell_type": "code",
      "execution_count": 21,
      "id": "8ad4e564",
      "metadata": {
        "colab": {
          "base_uri": "https://localhost:8080/"
        },
        "id": "8ad4e564",
        "outputId": "2380dd05-0f5e-4eeb-bc27-8027db1a8af4"
      },
      "outputs": [
        {
          "data": {
            "text/plain": [
              "1.4253642047367425"
            ]
          },
          "execution_count": 21,
          "metadata": {},
          "output_type": "execute_result"
        }
      ],
      "source": [
        "parent_entropy=-(0.41*log(0.41)+0.46*log(0.46)+0.13*log(0.13))\n",
        "parent_entropy"
      ]
    },
    {
      "cell_type": "markdown",
      "id": "3d9bfaae",
      "metadata": {
        "id": "3d9bfaae"
      },
      "source": [
        "### 2 B"
      ]
    },
    {
      "cell_type": "code",
      "execution_count": 22,
      "id": "71dfa8c5",
      "metadata": {
        "colab": {
          "base_uri": "https://localhost:8080/"
        },
        "id": "71dfa8c5",
        "outputId": "9118e361-8f39-4301-e24c-75765051e490"
      },
      "outputs": [
        {
          "data": {
            "text/plain": [
              "0.7219280948873623"
            ]
          },
          "execution_count": 22,
          "metadata": {},
          "output_type": "execute_result"
        }
      ],
      "source": [
        "x_2_lh=-(0.8*log(0.8) + 0.2*log(0.2))\n",
        "x_2_lh"
      ]
    },
    {
      "cell_type": "code",
      "execution_count": 23,
      "id": "bc4b57cc",
      "metadata": {
        "colab": {
          "base_uri": "https://localhost:8080/"
        },
        "id": "bc4b57cc",
        "outputId": "31f535d3-61b2-4635-b60e-275c6beb163b"
      },
      "outputs": [
        {
          "data": {
            "text/plain": [
              "1.3794821565051398"
            ]
          },
          "execution_count": 23,
          "metadata": {},
          "output_type": "execute_result"
        }
      ],
      "source": [
        "p_a_rh=0.41/0.8\n",
        "p_b_rh=0.3/0.8\n",
        "p_c_rh=0.09/0.8\n",
        "x_2_rh=-(p_a_rh*log(p_a_rh) + p_b_rh * log(p_b_rh) + p_c_rh * log(p_c_rh))\n",
        "x_2_rh"
      ]
    },
    {
      "cell_type": "code",
      "execution_count": 24,
      "id": "7d0ad067",
      "metadata": {
        "id": "7d0ad067"
      },
      "outputs": [],
      "source": [
        "weighted_x_2=0.2*x_2_lh + 0.8 * x_2_rh"
      ]
    },
    {
      "cell_type": "code",
      "execution_count": 25,
      "id": "77683182",
      "metadata": {
        "colab": {
          "base_uri": "https://localhost:8080/"
        },
        "id": "77683182",
        "outputId": "dec638c2-66d8-40ac-a477-fe206199a189"
      },
      "outputs": [
        {
          "data": {
            "text/plain": [
              "1.2479713441815843"
            ]
          },
          "execution_count": 25,
          "metadata": {},
          "output_type": "execute_result"
        }
      ],
      "source": [
        "weighted_x_2"
      ]
    },
    {
      "cell_type": "code",
      "execution_count": 26,
      "id": "64932f5a",
      "metadata": {
        "colab": {
          "base_uri": "https://localhost:8080/"
        },
        "id": "64932f5a",
        "outputId": "9e05fa28-45c3-4fbf-d42d-731ac2a8c7b9"
      },
      "outputs": [
        {
          "data": {
            "text/plain": [
              "0.17739286055515824"
            ]
          },
          "execution_count": 26,
          "metadata": {},
          "output_type": "execute_result"
        }
      ],
      "source": [
        "Info_gain_x2=parent_entropy- weighted_x_2\n",
        "Info_gain_x2"
      ]
    },
    {
      "cell_type": "code",
      "execution_count": 27,
      "id": "5ce0ccc8",
      "metadata": {
        "colab": {
          "base_uri": "https://localhost:8080/"
        },
        "id": "5ce0ccc8",
        "outputId": "d4543b69-e7e7-4545-b4e7-a337ca3c0b1c"
      },
      "outputs": [
        {
          "data": {
            "text/plain": [
              "1.1503914187111117"
            ]
          },
          "execution_count": 27,
          "metadata": {},
          "output_type": "execute_result"
        }
      ],
      "source": [
        "# For x<=0.7\n",
        "p_a_lh = (0.5*0.4) / 0.7\n",
        "p_b_lh = (0.7*0.6 + 0.2*0.2 ) / 0.7\n",
        "p_c_lh=(0.2*0.2)/0.7\n",
        "#a_lh+b_lh + c_lh\n",
        "en_x_7_lh=-(p_a_lh*log(p_a_lh) + p_b_lh*log(p_b_lh) + p_c_lh*log(p_c_lh))\n",
        "en_x_7_lh"
      ]
    },
    {
      "cell_type": "code",
      "execution_count": 28,
      "id": "eb03e636",
      "metadata": {
        "colab": {
          "base_uri": "https://localhost:8080/"
        },
        "id": "eb03e636",
        "outputId": "45926e5c-a37e-4cf4-a3e2-25a740495b04"
      },
      "outputs": [
        {
          "data": {
            "text/plain": [
              "0.8812908992306927"
            ]
          },
          "execution_count": 28,
          "metadata": {},
          "output_type": "execute_result"
        }
      ],
      "source": [
        "# For x>0.7\n",
        "p_a_rh=(0.3*0.4 + 0.3*.3)/0.3\n",
        "p_b_rh=0\n",
        "p_c_rh=(.3*.3)/.3\n",
        "en_x_7_rh=-(p_a_rh*log(p_a_rh) + p_b_rh*log(p_b_rh) + p_c_rh*log(p_c_rh))\n",
        "en_x_7_rh"
      ]
    },
    {
      "cell_type": "code",
      "execution_count": 29,
      "id": "668afc72",
      "metadata": {
        "colab": {
          "base_uri": "https://localhost:8080/"
        },
        "id": "668afc72",
        "outputId": "62d56992-6094-49d8-a6ad-3882326a2dcc"
      },
      "outputs": [
        {
          "data": {
            "text/plain": [
              "1.069661262866986"
            ]
          },
          "execution_count": 29,
          "metadata": {},
          "output_type": "execute_result"
        }
      ],
      "source": [
        "weighted_x_7=0.7*en_x_7_lh + 0.3*en_x_7_rh\n",
        "weighted_x_7"
      ]
    },
    {
      "cell_type": "code",
      "execution_count": 30,
      "id": "b540e8ae",
      "metadata": {
        "colab": {
          "base_uri": "https://localhost:8080/"
        },
        "id": "b540e8ae",
        "outputId": "729dfac1-250e-4017-b1ea-551670d73b49"
      },
      "outputs": [
        {
          "data": {
            "text/plain": [
              "0.3557029418697566"
            ]
          },
          "execution_count": 30,
          "metadata": {},
          "output_type": "execute_result"
        }
      ],
      "source": [
        "Info_gain_x7=parent_entropy- weighted_x_7\n",
        "Info_gain_x7"
      ]
    },
    {
      "cell_type": "code",
      "execution_count": 31,
      "id": "3aa53272",
      "metadata": {
        "colab": {
          "base_uri": "https://localhost:8080/"
        },
        "id": "3aa53272",
        "outputId": "841cb8ec-035e-4631-bbb3-6a0821154f04"
      },
      "outputs": [
        {
          "data": {
            "text/plain": [
              "1.1812908992306925"
            ]
          },
          "execution_count": 31,
          "metadata": {},
          "output_type": "execute_result"
        }
      ],
      "source": [
        "# For y<=0.6\n",
        "area_ly6=0.3*0.3  + 0.6*.7 + .3*.3\n",
        "p_a_lh=(.3*.3) / area_ly6\n",
        "p_b_lh=(0.6*.7)/area_ly6\n",
        "p_c_lh=(0.3*.3)/area_ly6\n",
        "en_y_6_lh=-(p_a_lh*log(p_a_lh) + p_b_lh*log(p_b_lh) + p_c_lh*log(p_c_lh))\n",
        "en_y_6_lh"
      ]
    },
    {
      "cell_type": "code",
      "execution_count": 32,
      "id": "8869ad99",
      "metadata": {
        "colab": {
          "base_uri": "https://localhost:8080/"
        },
        "id": "8869ad99",
        "outputId": "c2310beb-78ca-4cb6-e962-f5e2c0945ff1"
      },
      "outputs": [
        {
          "data": {
            "text/plain": [
              "0.9219280948873625"
            ]
          },
          "execution_count": 32,
          "metadata": {},
          "output_type": "execute_result"
        }
      ],
      "source": [
        "# For y >0.6\n",
        "area_ry6= .4*.8+.2*.2 + .2*.2\n",
        "p_a_rh=(.4*.8) / area_ry6\n",
        "p_b_rh=(.2*.2)/area_ry6\n",
        "p_c_rh=(.2*.2)/area_ry6\n",
        "en_y_6_rh=-(p_a_rh*log(p_a_rh) + p_b_rh*log(p_b_rh) + p_c_rh*log(p_c_rh))\n",
        "en_y_6_rh"
      ]
    },
    {
      "cell_type": "code",
      "execution_count": 33,
      "id": "75ba5950",
      "metadata": {
        "colab": {
          "base_uri": "https://localhost:8080/"
        },
        "id": "75ba5950",
        "outputId": "a5ba303c-0061-411f-f23c-116a4980fa62"
      },
      "outputs": [
        {
          "data": {
            "text/plain": [
              "1.0775457774933606"
            ]
          },
          "execution_count": 33,
          "metadata": {},
          "output_type": "execute_result"
        }
      ],
      "source": [
        "weighted_y_6=area_ly6*en_y_6_lh + area_ry6*en_y_6_rh\n",
        "weighted_y_6"
      ]
    },
    {
      "cell_type": "code",
      "execution_count": 34,
      "id": "02efd468",
      "metadata": {
        "colab": {
          "base_uri": "https://localhost:8080/"
        },
        "id": "02efd468",
        "outputId": "07bafd52-ea8a-4e0d-f453-53d0763d0da9"
      },
      "outputs": [
        {
          "data": {
            "text/plain": [
              "0.34781842724338197"
            ]
          },
          "execution_count": 34,
          "metadata": {},
          "output_type": "execute_result"
        }
      ],
      "source": [
        "Info_gain_y6=parent_entropy- weighted_y_6\n",
        "Info_gain_y6"
      ]
    },
    {
      "cell_type": "code",
      "execution_count": null,
      "id": "52ee8756",
      "metadata": {
        "id": "52ee8756"
      },
      "outputs": [],
      "source": []
    },
    {
      "cell_type": "markdown",
      "id": "2966170e",
      "metadata": {
        "id": "2966170e"
      },
      "source": [
        "## Question 3"
      ]
    },
    {
      "cell_type": "code",
      "execution_count": 35,
      "id": "ce241b9e",
      "metadata": {
        "id": "ce241b9e"
      },
      "outputs": [],
      "source": [
        "def gini(l):\n",
        "    gini=0\n",
        "    for i in l:\n",
        "        gini+=i**2\n",
        "    return 1-gini"
      ]
    },
    {
      "cell_type": "markdown",
      "id": "dfa0fb83",
      "metadata": {
        "id": "dfa0fb83"
      },
      "source": [
        "#### Question A"
      ]
    },
    {
      "cell_type": "code",
      "execution_count": 67,
      "id": "4d11640e",
      "metadata": {
        "colab": {
          "base_uri": "https://localhost:8080/"
        },
        "id": "4d11640e",
        "outputId": "b25340b9-1d10-4166-9016-be4fa1c039e1"
      },
      "outputs": [
        {
          "name": "stdout",
          "output_type": "stream",
          "text": [
            "Overall Gini index: 0.5\n"
          ]
        }
      ],
      "source": [
        "from collections import Counter\n",
        "\n",
        "# Define the dataset\n",
        "data = [\n",
        "    {\"Customer ID\": 1, \"Gender\": \"M\", \"Car Type\": \"Family\", \"Shirt Size\": \"Small\", \"Class\": \"C0\"},\n",
        "    {\"Customer ID\": 2, \"Gender\": \"M\", \"Car Type\": \"Sports\", \"Shirt Size\": \"Medium\", \"Class\": \"C0\"},\n",
        "    {\"Customer ID\": 3, \"Gender\": \"M\", \"Car Type\": \"Sports\", \"Shirt Size\": \"Medium\", \"Class\": \"C0\"},\n",
        "    {\"Customer ID\": 4, \"Gender\": \"M\", \"Car Type\": \"Sports\", \"Shirt Size\": \"Large\", \"Class\": \"C0\"},\n",
        "    {\"Customer ID\": 5, \"Gender\": \"M\", \"Car Type\": \"Sports\", \"Shirt Size\": \"Extra Large\", \"Class\": \"C0\"},\n",
        "    {\"Customer ID\": 6, \"Gender\": \"M\", \"Car Type\": \"Sports\", \"Shirt Size\": \"Extra Large\", \"Class\": \"C0\"},\n",
        "    {\"Customer ID\": 7, \"Gender\": \"F\", \"Car Type\": \"Sports\", \"Shirt Size\": \"Small\", \"Class\": \"C0\"},\n",
        "    {\"Customer ID\": 8, \"Gender\": \"F\", \"Car Type\": \"Sports\", \"Shirt Size\": \"Small\", \"Class\": \"C0\"},\n",
        "    {\"Customer ID\": 9, \"Gender\": \"F\", \"Car Type\": \"Sports\", \"Shirt Size\": \"Medium\", \"Class\": \"C0\"},\n",
        "    {\"Customer ID\": 10, \"Gender\": \"F\", \"Car Type\": \"Luxury\", \"Shirt Size\": \"Large\", \"Class\": \"C0\"},\n",
        "    {\"Customer ID\": 11, \"Gender\": \"M\", \"Car Type\": \"Family\", \"Shirt Size\": \"Large\", \"Class\": \"C1\"},\n",
        "    {\"Customer ID\": 12, \"Gender\": \"M\", \"Car Type\": \"Family\", \"Shirt Size\": \"Extra Large\", \"Class\": \"C1\"},\n",
        "    {\"Customer ID\": 13, \"Gender\": \"M\", \"Car Type\": \"Family\", \"Shirt Size\": \"Medium\", \"Class\": \"C1\"},\n",
        "    {\"Customer ID\": 14, \"Gender\": \"M\", \"Car Type\": \"Luxury\", \"Shirt Size\": \"Extra Large\", \"Class\": \"C1\"},\n",
        "    {\"Customer ID\": 15, \"Gender\": \"F\", \"Car Type\": \"Luxury\", \"Shirt Size\": \"Small\", \"Class\": \"C1\"},\n",
        "    {\"Customer ID\": 16, \"Gender\": \"F\", \"Car Type\": \"Luxury\", \"Shirt Size\": \"Small\", \"Class\": \"C1\"},\n",
        "    {\"Customer ID\": 17, \"Gender\": \"F\", \"Car Type\": \"Luxury\", \"Shirt Size\": \"Medium\", \"Class\": \"C1\"},\n",
        "    {\"Customer ID\": 18, \"Gender\": \"F\", \"Car Type\": \"Luxury\", \"Shirt Size\": \"Medium\", \"Class\": \"C1\"},\n",
        "    {\"Customer ID\": 19, \"Gender\": \"F\", \"Car Type\": \"Luxury\", \"Shirt Size\": \"Medium\", \"Class\": \"C1\"},\n",
        "    {\"Customer ID\": 20, \"Gender\": \"F\", \"Car Type\": \"Luxury\", \"Shirt Size\": \"Large\", \"Class\": \"C1\"}\n",
        "]\n",
        "\n",
        "# Function to compute Gini index\n",
        "def gini_index(labels):\n",
        "    total_count = len(labels)\n",
        "    class_counts = Counter(labels)\n",
        "    gini = 1.0\n",
        "    for class_label in class_counts:\n",
        "        class_prob = class_counts[class_label] / total_count\n",
        "        gini -= class_prob ** 2\n",
        "    return gini\n",
        "\n",
        "# Compute Gini index for the overall collection\n",
        "class_labels = [entry[\"Class\"] for entry in data]\n",
        "overall_gini = gini_index(class_labels)\n",
        "print(\"Overall Gini index:\", overall_gini)\n"
      ]
    },
    {
      "cell_type": "markdown",
      "id": "65e430d7",
      "metadata": {
        "id": "65e430d7"
      },
      "source": [
        "#### Question B"
      ]
    },
    {
      "cell_type": "code",
      "execution_count": 68,
      "id": "2d6b8079",
      "metadata": {
        "colab": {
          "base_uri": "https://localhost:8080/"
        },
        "id": "2d6b8079",
        "outputId": "237749ea-35d3-42fb-95e1-ed0108d743f1"
      },
      "outputs": [
        {
          "data": {
            "text/plain": [
              "0"
            ]
          },
          "execution_count": 68,
          "metadata": {},
          "output_type": "execute_result"
        }
      ],
      "source": [
        "#p_c1=p_c2=p_c3=p_c4=...=p_c20= 1\n",
        "gini([1])\n",
        "# so for all the players the gini impurity = 0"
      ]
    },
    {
      "cell_type": "code",
      "execution_count": 69,
      "id": "978ef9ed",
      "metadata": {
        "colab": {
          "base_uri": "https://localhost:8080/"
        },
        "id": "978ef9ed",
        "outputId": "c789917f-2a8e-4deb-c498-d4b3deae6383"
      },
      "outputs": [
        {
          "data": {
            "text/plain": [
              "[0.0,\n",
              " 0.0,\n",
              " 0.0,\n",
              " 0.0,\n",
              " 0.0,\n",
              " 0.0,\n",
              " 0.0,\n",
              " 0.0,\n",
              " 0.0,\n",
              " 0.0,\n",
              " 0.0,\n",
              " 0.0,\n",
              " 0.0,\n",
              " 0.0,\n",
              " 0.0,\n",
              " 0.0,\n",
              " 0.0,\n",
              " 0.0,\n",
              " 0.0,\n",
              " 0.0]"
            ]
          },
          "execution_count": 69,
          "metadata": {},
          "output_type": "execute_result"
        }
      ],
      "source": [
        "#weighted gini Index\n",
        "id_wise=[(1/20)*0]*20\n",
        "id_wise"
      ]
    },
    {
      "cell_type": "code",
      "execution_count": 70,
      "id": "a12be9be",
      "metadata": {
        "colab": {
          "base_uri": "https://localhost:8080/"
        },
        "id": "a12be9be",
        "outputId": "8aa379e7-f25e-40ec-bd68-4d19998642df"
      },
      "outputs": [
        {
          "data": {
            "text/plain": [
              "0.0"
            ]
          },
          "execution_count": 70,
          "metadata": {},
          "output_type": "execute_result"
        }
      ],
      "source": [
        "overall_weighted_gini_id=np.sum(id_wise)\n",
        "overall_weighted_gini_id"
      ]
    },
    {
      "cell_type": "markdown",
      "id": "0e58159f",
      "metadata": {
        "id": "0e58159f"
      },
      "source": [
        "#### Question C"
      ]
    },
    {
      "cell_type": "code",
      "execution_count": 71,
      "id": "53d14495",
      "metadata": {
        "id": "53d14495"
      },
      "outputs": [],
      "source": [
        "gm_co=6/10\n",
        "gm_c1=4/10\n",
        "gf_co=4/10\n",
        "gf_c1=6/10\n",
        "gini_gm=gini([gm_co,gm_c1])\n",
        "gini_gf=gini([gf_co,gf_c1])"
      ]
    },
    {
      "cell_type": "code",
      "execution_count": 72,
      "id": "90fcf4a7",
      "metadata": {
        "id": "90fcf4a7"
      },
      "outputs": [],
      "source": [
        "weighted_gini=gini_gm #As gini for both male and female is same avg\n",
        "# we can put either 1 of em."
      ]
    },
    {
      "cell_type": "markdown",
      "id": "372bb779",
      "metadata": {
        "id": "372bb779"
      },
      "source": [
        "#### Question D"
      ]
    },
    {
      "cell_type": "code",
      "execution_count": 73,
      "id": "21cd4862",
      "metadata": {
        "id": "21cd4862"
      },
      "outputs": [],
      "source": [
        "cf_co=1/4\n",
        "cf_c1=3/4\n",
        "cs_co=8/8\n",
        "cs_c1=0\n",
        "cl_co=1/8\n",
        "cl_c1=7/8\n",
        "gini_cf=gini([cf_co,cf_c1])\n",
        "gini_cs=gini([cs_co,cs_c1])\n",
        "gini_cl=gini([cl_co,cl_c1])"
      ]
    },
    {
      "cell_type": "code",
      "execution_count": 74,
      "id": "cecfd4db",
      "metadata": {
        "colab": {
          "base_uri": "https://localhost:8080/"
        },
        "id": "cecfd4db",
        "outputId": "f485e1a7-42cb-4696-c467-2ce20ddaa8c9"
      },
      "outputs": [
        {
          "data": {
            "text/plain": [
              "0.16250000000000003"
            ]
          },
          "execution_count": 74,
          "metadata": {},
          "output_type": "execute_result"
        }
      ],
      "source": [
        "weighted_gini_car=(4/20)*gini_cf + gini_cs*(8/20) + gini_cl*(8/20)\n",
        "weighted_gini_car"
      ]
    },
    {
      "cell_type": "markdown",
      "id": "15f93cf0",
      "metadata": {
        "id": "15f93cf0"
      },
      "source": [
        "#### Question E"
      ]
    },
    {
      "cell_type": "code",
      "execution_count": 44,
      "id": "e5757b1f",
      "metadata": {
        "id": "e5757b1f"
      },
      "outputs": [],
      "source": [
        "ss_co=3/5\n",
        "ss_c1=2/5\n",
        "sm_co=3/7\n",
        "sm_c1=4/7\n",
        "sl_co=2/4\n",
        "sl_c1=2/4\n",
        "sxl_co=2/4\n",
        "sxl_c1=2/4\n",
        "gini_ss=gini([ss_co,ss_c1])\n",
        "gini_sm=gini([sm_co,sm_c1])\n",
        "gini_sl=gini([sl_co,sl_c1])\n",
        "gini_sxl=gini([sxl_co,sxl_c1])"
      ]
    },
    {
      "cell_type": "code",
      "execution_count": 45,
      "id": "6eb74e64",
      "metadata": {
        "colab": {
          "base_uri": "https://localhost:8080/"
        },
        "id": "6eb74e64",
        "outputId": "8edd3f82-7fa0-4c87-a304-ad185ab998f9"
      },
      "outputs": [
        {
          "data": {
            "text/plain": [
              "0.49142857142857144"
            ]
          },
          "execution_count": 45,
          "metadata": {},
          "output_type": "execute_result"
        }
      ],
      "source": [
        "weighted_gini_shirt=(5/20)*gini_ss + gini_sm*(7/20) + gini_sl*(4/20) + gini_sxl*(4/20)\n",
        "weighted_gini_shirt"
      ]
    },
    {
      "cell_type": "markdown",
      "id": "02865020",
      "metadata": {
        "id": "02865020"
      },
      "source": [
        "## Question 6"
      ]
    },
    {
      "cell_type": "code",
      "execution_count": 46,
      "id": "631b7024",
      "metadata": {
        "colab": {
          "base_uri": "https://localhost:8080/"
        },
        "id": "631b7024",
        "outputId": "5bb0a369-4034-4f14-c255-6735365b15cf"
      },
      "outputs": [
        {
          "data": {
            "text/plain": [
              "0"
            ]
          },
          "execution_count": 46,
          "metadata": {},
          "output_type": "execute_result"
        }
      ],
      "source": [
        "#x>0.5\n",
        "above_x5=gini([1,0])\n",
        "above_x5\n",
        "# x<0.5"
      ]
    },
    {
      "cell_type": "code",
      "execution_count": 47,
      "id": "ffd8c264",
      "metadata": {
        "colab": {
          "base_uri": "https://localhost:8080/"
        },
        "id": "ffd8c264",
        "outputId": "fde22806-8762-4d29-9d68-82d8e8dad1f1"
      },
      "outputs": [
        {
          "data": {
            "text/plain": [
              "0.4992"
            ]
          },
          "execution_count": 47,
          "metadata": {},
          "output_type": "execute_result"
        }
      ],
      "source": [
        "less_x5=gini([0.26/0.5,0.24/0.5])\n",
        "less_x5"
      ]
    },
    {
      "cell_type": "code",
      "execution_count": 48,
      "id": "eba0e391",
      "metadata": {
        "colab": {
          "base_uri": "https://localhost:8080/"
        },
        "id": "eba0e391",
        "outputId": "0b216904-91aa-44d7-d0dc-53ebff402d4d",
        "scrolled": true
      },
      "outputs": [
        {
          "data": {
            "text/plain": [
              "0.2496"
            ]
          },
          "execution_count": 48,
          "metadata": {},
          "output_type": "execute_result"
        }
      ],
      "source": [
        "weighted_gini_index=0.5*less_x5 + 0.5*above_x5\n",
        "weighted_gini_index"
      ]
    },
    {
      "cell_type": "markdown",
      "id": "3429174c",
      "metadata": {
        "id": "3429174c"
      },
      "source": [
        "### y=0.4"
      ]
    },
    {
      "cell_type": "code",
      "execution_count": 49,
      "id": "9ef5ec6b",
      "metadata": {
        "colab": {
          "base_uri": "https://localhost:8080/"
        },
        "id": "9ef5ec6b",
        "outputId": "9e81f2b0-efaf-481e-c05e-26db97c0e9cd"
      },
      "outputs": [
        {
          "data": {
            "text/plain": [
              "0.48"
            ]
          },
          "execution_count": 49,
          "metadata": {},
          "output_type": "execute_result"
        }
      ],
      "source": [
        "# y >0.4\n",
        "above_y4=gini([0.36/0.6,0.24/0.6])\n",
        "above_y4"
      ]
    },
    {
      "cell_type": "code",
      "execution_count": 50,
      "id": "99f351e4",
      "metadata": {
        "colab": {
          "base_uri": "https://localhost:8080/"
        },
        "id": "99f351e4",
        "outputId": "8652e8c7-1917-4abb-d2d1-fcbcfa73d85f"
      },
      "outputs": [
        {
          "data": {
            "text/plain": [
              "0.288"
            ]
          },
          "execution_count": 50,
          "metadata": {},
          "output_type": "execute_result"
        }
      ],
      "source": [
        "less_y4=gini([1])\n",
        "weighted_gini_index_y4=0.4*less_y4 + 0.6*above_y4\n",
        "weighted_gini_index_y4"
      ]
    },
    {
      "cell_type": "markdown",
      "id": "fdb46ba6",
      "metadata": {
        "id": "fdb46ba6"
      },
      "source": [
        "### y=0.7"
      ]
    },
    {
      "cell_type": "code",
      "execution_count": 51,
      "id": "e4363dbb",
      "metadata": {
        "colab": {
          "base_uri": "https://localhost:8080/"
        },
        "id": "e4363dbb",
        "outputId": "a448e6f1-245d-4f9e-f15c-d7b750acc5c2"
      },
      "outputs": [
        {
          "data": {
            "text/plain": [
              "0.42000000000000004"
            ]
          },
          "execution_count": 51,
          "metadata": {},
          "output_type": "execute_result"
        }
      ],
      "source": [
        "above_y7=gini([0.21/0.3,0.09/0.3])\n",
        "above_y7"
      ]
    },
    {
      "cell_type": "code",
      "execution_count": 52,
      "id": "da3d1728",
      "metadata": {
        "colab": {
          "base_uri": "https://localhost:8080/"
        },
        "id": "da3d1728",
        "outputId": "97436f19-60f3-4688-e32d-93a5579d8400"
      },
      "outputs": [
        {
          "data": {
            "text/plain": [
              "0.33673469387755084"
            ]
          },
          "execution_count": 52,
          "metadata": {},
          "output_type": "execute_result"
        }
      ],
      "source": [
        "less_y7=gini([0.55/0.7,0.15/0.7])\n",
        "less_y7"
      ]
    },
    {
      "cell_type": "code",
      "execution_count": 53,
      "id": "72e07166",
      "metadata": {
        "colab": {
          "base_uri": "https://localhost:8080/"
        },
        "id": "72e07166",
        "outputId": "6271849f-297e-4434-f1d9-f65d710ca145"
      },
      "outputs": [
        {
          "data": {
            "text/plain": [
              "0.36171428571428554"
            ]
          },
          "execution_count": 53,
          "metadata": {},
          "output_type": "execute_result"
        }
      ],
      "source": [
        "weighted_gini_y7=0.7*less_y7 + 0.3*above_y7\n",
        "weighted_gini_y7"
      ]
    },
    {
      "cell_type": "markdown",
      "id": "db81f219",
      "metadata": {
        "id": "db81f219"
      },
      "source": [
        "### x = 0.2"
      ]
    },
    {
      "cell_type": "code",
      "execution_count": 54,
      "id": "9ce82f4e",
      "metadata": {
        "colab": {
          "base_uri": "https://localhost:8080/"
        },
        "id": "9ce82f4e",
        "outputId": "a2928eb9-d2a6-49ed-ba57-683aa8215139"
      },
      "outputs": [
        {
          "data": {
            "text/plain": [
              "0.3487500000000001"
            ]
          },
          "execution_count": 54,
          "metadata": {},
          "output_type": "execute_result"
        }
      ],
      "source": [
        "above_x2=gini([0.62/0.8,0.18/0.8])\n",
        "above_x2"
      ]
    },
    {
      "cell_type": "code",
      "execution_count": 55,
      "id": "8b860668",
      "metadata": {
        "colab": {
          "base_uri": "https://localhost:8080/"
        },
        "id": "8b860668",
        "outputId": "76fc7d09-fa94-433e-c642-7fc7633cf348"
      },
      "outputs": [
        {
          "data": {
            "text/plain": [
              "0.41999999999999993"
            ]
          },
          "execution_count": 55,
          "metadata": {},
          "output_type": "execute_result"
        }
      ],
      "source": [
        "less_x2=gini([0.14/0.2,0.06/0.2])\n",
        "less_x2"
      ]
    },
    {
      "cell_type": "code",
      "execution_count": 56,
      "id": "238c3206",
      "metadata": {
        "colab": {
          "base_uri": "https://localhost:8080/"
        },
        "id": "238c3206",
        "outputId": "dfb71437-ea0f-4219-83cc-ddcd504f6227"
      },
      "outputs": [
        {
          "data": {
            "text/plain": [
              "0.3630000000000001"
            ]
          },
          "execution_count": 56,
          "metadata": {},
          "output_type": "execute_result"
        }
      ],
      "source": [
        "weighted_gini_x2=0.2*less_x2 + 0.8*above_x2\n",
        "weighted_gini_x2"
      ]
    },
    {
      "cell_type": "code",
      "execution_count": null,
      "id": "a38ec2b8",
      "metadata": {
        "id": "a38ec2b8"
      },
      "outputs": [],
      "source": []
    },
    {
      "cell_type": "markdown",
      "id": "a562dbcb",
      "metadata": {
        "id": "a562dbcb"
      },
      "source": [
        "## Question 7"
      ]
    },
    {
      "cell_type": "code",
      "execution_count": 57,
      "id": "8af085a7",
      "metadata": {
        "colab": {
          "base_uri": "https://localhost:8080/"
        },
        "id": "8af085a7",
        "outputId": "87f4ef05-1e70-4083-98ba-265dee26465d"
      },
      "outputs": [
        {
          "data": {
            "text/plain": [
              "1.0"
            ]
          },
          "execution_count": 57,
          "metadata": {},
          "output_type": "execute_result"
        }
      ],
      "source": [
        "pos=10/20\n",
        "neg=10/20\n",
        "parent_ent=entropy([pos,neg])\n",
        "parent_ent"
      ]
    },
    {
      "cell_type": "markdown",
      "id": "8e6be007",
      "metadata": {
        "id": "8e6be007"
      },
      "source": [
        "### 7 A"
      ]
    },
    {
      "cell_type": "code",
      "execution_count": 58,
      "id": "06d8df22",
      "metadata": {
        "id": "06d8df22"
      },
      "outputs": [],
      "source": [
        "import numpy as np"
      ]
    },
    {
      "cell_type": "code",
      "execution_count": 59,
      "id": "86b5064d",
      "metadata": {
        "colab": {
          "base_uri": "https://localhost:8080/"
        },
        "id": "86b5064d",
        "outputId": "7679bfff-c94b-4532-ef76-c35bd5bd2b20"
      },
      "outputs": [
        {
          "data": {
            "text/plain": [
              "1.0"
            ]
          },
          "execution_count": 59,
          "metadata": {},
          "output_type": "execute_result"
        }
      ],
      "source": [
        "ent=entropy([1]*20)\n",
        "Info_gain_A=parent_ent-np.absolute(ent)\n",
        "Info_gain_A"
      ]
    },
    {
      "cell_type": "markdown",
      "id": "6a0614ee",
      "metadata": {
        "id": "6a0614ee"
      },
      "source": [
        "### 7 B"
      ]
    },
    {
      "cell_type": "code",
      "execution_count": 60,
      "id": "73ac0a6b",
      "metadata": {
        "id": "73ac0a6b"
      },
      "outputs": [],
      "source": [
        "lhand_pos=9/10\n",
        "lhand_neg=1/10\n",
        "rhand_pos=1/10\n",
        "rhand_neg=9/10\n",
        "l_hand_entr=entropy([lhand_pos,lhand_neg])\n",
        "r_hand_entr=entropy([rhand_pos,rhand_neg])\n",
        "weighted_entr= l_hand_entr = r_hand_entr #It because avg of 1+1 is 1\n",
        "# As here l_hand and r_hand entropy are same the weighted entropy is just 1 of em."
      ]
    },
    {
      "cell_type": "code",
      "execution_count": 61,
      "id": "a41c7b8e",
      "metadata": {
        "colab": {
          "base_uri": "https://localhost:8080/"
        },
        "id": "a41c7b8e",
        "outputId": "71d115b5-ce15-40aa-98b1-1b2a53a69220"
      },
      "outputs": [
        {
          "data": {
            "text/plain": [
              "0.5310044064107188"
            ]
          },
          "execution_count": 61,
          "metadata": {},
          "output_type": "execute_result"
        }
      ],
      "source": [
        "Info_gain_B=parent_ent - weighted_entr\n",
        "Info_gain_B"
      ]
    },
    {
      "cell_type": "code",
      "execution_count": 62,
      "id": "8917a5b0",
      "metadata": {
        "id": "8917a5b0"
      },
      "outputs": [],
      "source": [
        "def splitInfo(li):\n",
        "    split=0\n",
        "    for i in li:\n",
        "        split += i * log (i)\n",
        "    return -split"
      ]
    },
    {
      "cell_type": "markdown",
      "id": "31d27ee2",
      "metadata": {
        "id": "31d27ee2"
      },
      "source": [
        "### 7 D"
      ]
    },
    {
      "cell_type": "code",
      "execution_count": 63,
      "id": "215de108",
      "metadata": {
        "colab": {
          "base_uri": "https://localhost:8080/"
        },
        "id": "215de108",
        "outputId": "9a1af460-6fb8-4fd2-849c-891ffe0e96ef"
      },
      "outputs": [
        {
          "data": {
            "text/plain": [
              "0.23137821315975915"
            ]
          },
          "execution_count": 63,
          "metadata": {},
          "output_type": "execute_result"
        }
      ],
      "source": [
        "Gain_ratio_D=Info_gain_A/splitInfo([1/20]*20)\n",
        "Gain_ratio_D"
      ]
    },
    {
      "cell_type": "markdown",
      "id": "0f1aa76e",
      "metadata": {
        "id": "0f1aa76e"
      },
      "source": [
        "### 7 E"
      ]
    },
    {
      "cell_type": "code",
      "execution_count": 64,
      "id": "c5880d2b",
      "metadata": {
        "colab": {
          "base_uri": "https://localhost:8080/"
        },
        "id": "c5880d2b",
        "outputId": "a026a0b3-8b0e-4cc1-db73-704c8e333060"
      },
      "outputs": [
        {
          "data": {
            "text/plain": [
              "0.5310044064107188"
            ]
          },
          "execution_count": 64,
          "metadata": {},
          "output_type": "execute_result"
        }
      ],
      "source": [
        "Gain_ratio_E=Info_gain_B/splitInfo([10/20,10/20])\n",
        "Gain_ratio_E"
      ]
    },
    {
      "cell_type": "code",
      "execution_count": null,
      "id": "d024dff7",
      "metadata": {
        "id": "d024dff7"
      },
      "outputs": [],
      "source": []
    }
  ],
  "metadata": {
    "colab": {
      "provenance": []
    },
    "kernelspec": {
      "display_name": "Python 3 (ipykernel)",
      "language": "python",
      "name": "python3"
    },
    "language_info": {
      "codemirror_mode": {
        "name": "ipython",
        "version": 3
      },
      "file_extension": ".py",
      "mimetype": "text/x-python",
      "name": "python",
      "nbconvert_exporter": "python",
      "pygments_lexer": "ipython3",
      "version": "3.11.4"
    }
  },
  "nbformat": 4,
  "nbformat_minor": 5
}
